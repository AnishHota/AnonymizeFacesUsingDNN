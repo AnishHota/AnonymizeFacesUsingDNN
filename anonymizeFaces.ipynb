{
 "cells": [
  {
   "cell_type": "code",
   "execution_count": 1,
   "metadata": {
    "collapsed": true
   },
   "outputs": [],
   "source": [
    "import numpy as np\n",
    "import cv2\n",
    "import imutils\n",
    "from imutils.video import VideoStream\n",
    "import time\n",
    "import os"
   ]
  },
  {
   "cell_type": "code",
   "execution_count": 2,
   "metadata": {
    "collapsed": true
   },
   "outputs": [],
   "source": [
    "def anonymize_face_simple(image, factor=3.0):\n",
    "#Increasing the factor will increase the blurriness\n",
    "    (h,w) = image.shape[:2]\n",
    "    kW = int(w/factor)\n",
    "    kH = int(h/factor)\n",
    "    \n",
    "    if kW%2 == 0:\n",
    "        kW -= 1\n",
    "    \n",
    "    if kH%2 == 0:\n",
    "        kH -= 1\n",
    "    \n",
    "    return cv2.GaussianBlur(image, (kW,kH), 0)"
   ]
  },
  {
   "cell_type": "code",
   "execution_count": 3,
   "metadata": {
    "collapsed": true
   },
   "outputs": [],
   "source": [
    "def anonymize_face_pixelate(image, blocks=3):\n",
    "    (h,w) = image.shape[:2]\n",
    "    xSteps = np.linspace(0,w,blocks+1,dtype=\"int\")\n",
    "    ySteps = np.linspace(0,h,blocks+1,dtype=\"int\")\n",
    "    \n",
    "    for i in range(1,len(ySteps)):\n",
    "        for j in range(1,len(xSteps)):\n",
    "            \n",
    "            startX = xSteps[j-1]\n",
    "            startY = ySteps[i-1]\n",
    "            endX = xSteps[j]\n",
    "            endY = ySteps[i]\n",
    "            \n",
    "            roi = image[startY:endY, startX: endX]\n",
    "            (B,G,R) = [int(x) for x in cv2.mean(roi)[:3]]\n",
    "            cv2.rectangle(image,(startX,startY), (endX,endY), (B,G,R),-1)\n",
    "\n",
    "    return image\n"
   ]
  },
  {
   "cell_type": "markdown",
   "metadata": {},
   "source": [
    "Anonymize faces by detecting faces using Haar Cascade Classifier"
   ]
  },
  {
   "cell_type": "code",
   "execution_count": 7,
   "metadata": {
    "collapsed": true
   },
   "outputs": [],
   "source": [
    "face_cascade = cv2.CascadeClassifier('model_data/haarcascade_frontalface_default.xml')"
   ]
  },
  {
   "cell_type": "code",
   "execution_count": 8,
   "metadata": {},
   "outputs": [
    {
     "name": "stdout",
     "output_type": "stream",
     "text": [
      "Starting video stream\n",
      "Video stream stopped.\n"
     ]
    }
   ],
   "source": [
    "print(\"Starting video stream\")\n",
    "vs = VideoStream(src=0).start()\n",
    "time.sleep(2.0)\n",
    "\n",
    "while True:\n",
    "    frame = vs.read()\n",
    "    frame = imutils.resize(frame,width=400)\n",
    "    \n",
    "    (h,w) = frame.shape[:2]\n",
    "    gray = cv2.cvtColor(frame,cv2.COLOR_BGR2GRAY)\n",
    "    faces = face_cascade.detectMultiScale(gray,1.3,5)\n",
    "    \n",
    "    for (x,y,w,h) in faces:\n",
    "        face = frame[y:y+h, x:x+w]\n",
    "        face = anonymize_face_pixelate(face)\n",
    "        frame[y:y+h, x:x+w] = face\n",
    "    \n",
    "    cv2.imshow(\"Frame\",frame)\n",
    "    \n",
    "    key = cv2.waitKey(1)&0xFF\n",
    "    \n",
    "    if key==ord(\"q\"):\n",
    "        break\n",
    "cv2.destroyAllWindows()\n",
    "vs.stop()\n",
    "vs.stream.release()\n",
    "print(\"Video stream stopped.\")"
   ]
  },
  {
   "cell_type": "markdown",
   "metadata": {
    "collapsed": true
   },
   "source": [
    "Anonymize faces by detecting faces using Deep Neural Network"
   ]
  },
  {
   "cell_type": "code",
   "execution_count": 13,
   "metadata": {},
   "outputs": [],
   "source": [
    "protoxt_path = r'model_data/deploy.prototxt'\n",
    "caffemodel_path = r'model_data/weights.caffemodel'\n",
    "\n",
    "model = cv2.dnn.readNetFromCaffe(protoxt_path,caffemodel_path)\n"
   ]
  },
  {
   "cell_type": "code",
   "execution_count": 14,
   "metadata": {},
   "outputs": [
    {
     "name": "stdout",
     "output_type": "stream",
     "text": [
      "Starting Video stream\n",
      "[INFO]Video stream stopped\n"
     ]
    }
   ],
   "source": [
    "print(\"Starting Video stream\")\n",
    "vs = VideoStream(src=0).start()\n",
    "time.sleep(2.0)\n",
    "while True:\n",
    "    frame = vs.read()\n",
    "    frame = imutils.resize(frame,width=400)\n",
    "\n",
    "    (h,w) = frame.shape[:2]\n",
    "    # (104.0,177.0,123.0) is the mean value for the ImageNet training set.\n",
    "    blob = cv2.dnn.blobFromImage(cv2.resize(frame,(300,300)),1.0,(h,w),(104.0,177.0,123.0)) \n",
    "    model.setInput(blob)\n",
    "    detections = model.forward()\n",
    "\n",
    "    for i in range(0,detections.shape[2]):\n",
    "        box = detections[0,0,i,3:7]*np.array([w,h,w,h])\n",
    "        (startX, startY, endX, endY) = box.astype(\"int\")\n",
    "        face = frame[startY:endY,startX:endX]\n",
    "        confidence = detections[0,0,i,2]\n",
    "        if(confidence>0.5):\n",
    "            face = anonymize_face_pixelate(face)\n",
    "            frame[startY:endY,startX:endX] = face\n",
    "\n",
    "    cv2.imshow(\"Frame\",frame)\n",
    "\n",
    "    key = cv2.waitKey(1)&0xFF\n",
    "\n",
    "    if key==ord(\"q\"):\n",
    "        break\n",
    "\n",
    "cv2.destroyAllWindows()\n",
    "vs.stop()\n",
    "vs.stream.release()\n",
    "print(\"[INFO]Video stream stopped\")"
   ]
  }
 ],
 "metadata": {
  "kernelspec": {
   "display_name": "Python 3",
   "language": "python",
   "name": "python3"
  },
  "language_info": {
   "codemirror_mode": {
    "name": "ipython",
    "version": 3
   },
   "file_extension": ".py",
   "mimetype": "text/x-python",
   "name": "python",
   "nbconvert_exporter": "python",
   "pygments_lexer": "ipython3",
   "version": "3.5.2"
  }
 },
 "nbformat": 4,
 "nbformat_minor": 2
}
